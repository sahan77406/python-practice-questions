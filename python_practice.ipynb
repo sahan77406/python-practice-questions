{
 "cells": [
  {
   "attachments": {},
   "cell_type": "markdown",
   "metadata": {},
   "source": [
    "**1** **-Given a dictionary with keys of letters and values of a list of letters, write a function closest_key**\n",
    "**to find the key with the input value closest to the beginning of the list.**"
   ]
  },
  {
   "cell_type": "code",
   "execution_count": 1,
   "metadata": {},
   "outputs": [
    {
     "name": "stdout",
     "output_type": "stream",
     "text": [
      "The input value closest to the beginning of the list at index of 1 in the list_m\n"
     ]
    }
   ],
   "source": [
    "dictionary = {\n",
    "    'a' : ['b','c','e'],\n",
    "    'm' : ['c','e', 'b'],\n",
    "}\n",
    "input1 = \"e\"\n",
    "\n",
    "list_a = dictionary.get(\"a\")\n",
    "list_m = dictionary.get(\"m\")\n",
    "\n",
    "for i in range (len(list_a)):\n",
    "    if list_a[i] == input1:\n",
    "        index_a = i\n",
    "        \n",
    "for i in range (len(list_m)):\n",
    "    if list_m[i] == input1:\n",
    "        index_m = i\n",
    "\n",
    "if index_a < index_m:\n",
    "    print ( \"The input value closest to the beginning of the list at index of \" + str(index_a) + + \" in the list_a\")\n",
    "elif index_m < index_a:\n",
    "    print(\"The input value closest to the beginning of the list at index of \" + str(index_m) + \" in the list_m\")\n",
    "else:\n",
    "    print (\"the input value not found in the lists\")\n",
    "    \n",
    "    \n",
    "        "
   ]
  },
  {
   "attachments": {},
   "cell_type": "markdown",
   "metadata": {},
   "source": [
    "**2** **-Write a function that can take a string and return a list of bigrams**."
   ]
  },
  {
   "cell_type": "code",
   "execution_count": 2,
   "metadata": {},
   "outputs": [
    {
     "name": "stdout",
     "output_type": "stream",
     "text": [
      "List of the words in the sentence:\n",
      "Write a function that can take a string and return a list of bigrams\n",
      "\n",
      "list of bigrams:\n",
      "[('Write', 'a'), ('a', 'function'), ('function', 'that'), ('that', 'can'), ('can', 'take'), ('take', 'a'), ('a', 'string'), ('string', 'and'), ('and', 'return'), ('return', 'a'), ('a', 'list'), ('list', 'of'), ('of', 'bigrams')]\n"
     ]
    }
   ],
   "source": [
    "text = \"Write a function that can take a string and return a list of bigrams\"\n",
    "words = text.split()\n",
    "print(\"List of the words in the sentence:\")\n",
    "print (text)\n",
    "print() # skip a line\n",
    "bigram_list = []\n",
    "\n",
    "for word in zip(text.split()[:-1], text.split()[1:]):\n",
    "    bigram_list.append(word)\n",
    "print(\"list of bigrams:\")\n",
    "print(bigram_list)"
   ]
  },
  {
   "attachments": {},
   "cell_type": "markdown",
   "metadata": {},
   "source": [
    "**3** **-Given an array of integers called array and an integer called target, return indices of the two numbers such that they add up to target.**"
   ]
  },
  {
   "cell_type": "code",
   "execution_count": 3,
   "metadata": {},
   "outputs": [
    {
     "name": "stdout",
     "output_type": "stream",
     "text": [
      "indices of the two numbers such that they add up to target : [1, 7, 5, 6]\n"
     ]
    }
   ],
   "source": [
    "def sum_of_two_elem(array, size, target):\n",
    "    array1 = []\n",
    "    for a in range(0, size - 1):\n",
    "        for b in range(a + 1, size):\n",
    "            if array[a] + array[b] == target:\n",
    "                array1.append(a)\n",
    "                array1.append(b)\n",
    "    \n",
    "    return array1\n",
    "                \n",
    "\n",
    " \n",
    "if __name__ == \"__main__\":\n",
    "    \n",
    "    array = [2, 3, -1, -6, 5, 4, 6, 7, 0]\n",
    "    target = int(10)\n",
    "    size = len(array)\n",
    "    result = sum_of_two_elem(array, size, target)\n",
    "    \n",
    "    print(\"indices of the two numbers such that they add up to target : \" + str(result))\n",
    "                    \n",
    "\n",
    "\n"
   ]
  },
  {
   "attachments": {},
   "cell_type": "markdown",
   "metadata": {},
   "source": [
    "**4** **-Given an array of integers called array and an integer called target, return indices of the two numbers such that they add up to target.**\n",
    "\n",
    "**List Comprehension-1**"
   ]
  },
  {
   "cell_type": "code",
   "execution_count": 6,
   "metadata": {},
   "outputs": [
    {
     "name": "stdout",
     "output_type": "stream",
     "text": [
      "indices of the two numbers such that they add up to target: [1, 7, 5, 6]\n"
     ]
    }
   ],
   "source": [
    "\n",
    "array = [2, 3, -1, -6, 5, 4, 6, 7, 0]\n",
    "target = int(10)\n",
    "size = len(array)\n",
    "array1 = []\n",
    "array2 = [(array1.append(a), array1.append(b)) for a in range(0, size - 1) for b in range(a + 1, size) if array[a] + array[b] == target ]\n",
    "    \n",
    "print (\"indices of the two numbers such that they add up to target: \" + str(array1))\n"
   ]
  },
  {
   "attachments": {},
   "cell_type": "markdown",
   "metadata": {},
   "source": [
    "**4** **-Given an array of integers called array and an integer called target, return indices of the two numbers such that they add up to target.**\n",
    "\n",
    "**List Comprehension-2**"
   ]
  },
  {
   "cell_type": "code",
   "execution_count": 5,
   "metadata": {},
   "outputs": [
    {
     "name": "stdout",
     "output_type": "stream",
     "text": [
      "indices of the two numbers such that they add up to target : [(1, 7), (5, 6)]\n"
     ]
    }
   ],
   "source": [
    "array = [2, 3, -1, -6, 5, 4, 6, 7, 0]\n",
    "target = int(10)\n",
    "size = len(array)\n",
    "array2 = [(a, b) for a in range(0, size - 1) for b in range(a + 1, size) if array[a] + array[b] == target ]\n",
    "print (\"indices of the two numbers such that they add up to target : \" + str(array2))"
   ]
  },
  {
   "attachments": {},
   "cell_type": "markdown",
   "metadata": {},
   "source": [
    "**5** **-Longest Substring Without Repeating Characters**"
   ]
  },
  {
   "cell_type": "code",
   "execution_count": 13,
   "metadata": {},
   "outputs": [
    {
     "name": "stdout",
     "output_type": "stream",
     "text": [
      "Original String : pwwkew\n",
      "\n",
      "\n",
      "String without repeating characters: pwke\n"
     ]
    }
   ],
   "source": [
    "def longestString(string_1):\n",
    "    \n",
    "    \n",
    "    size = len(string_1)\n",
    "    print(\"Original String : \" + string_1)\n",
    "    str_2 = \"\"\n",
    "    print(str_2)\n",
    "    for a in range(0, size - 1):\n",
    "        if string_1[a] not in str_2:\n",
    "            str_2 += string_1[a]\n",
    "            str_2\n",
    "             \n",
    "    return str_2\n",
    "                    \n",
    "\n",
    "if __name__ == \"__main__\":\n",
    "    \n",
    "   str_1 = \"pwwkew\"\n",
    "   str_1 = str_1.lower()\n",
    "   returned_string = longestString(str_1)\n",
    "   print() # skip a line\n",
    "   print(\"String without repeating characters: \" + str(returned_string))"
   ]
  },
  {
   "cell_type": "code",
   "execution_count": 31,
   "metadata": {},
   "outputs": [
    {
     "name": "stdout",
     "output_type": "stream",
     "text": [
      "\n",
      "String without repeating characters: 1.5\n"
     ]
    }
   ],
   "source": [
    "def median_of_arrays(array_1, array_2):\n",
    "    \n",
    "    \n",
    "    size = len(array_2)\n",
    "    median = 0\n",
    "    array_1.sort()\n",
    "    mid = len(array_1) // 2\n",
    "    if size == 0:\n",
    "        median = (array_1[mid] + array_1[~mid]) / 2\n",
    "        return median\n",
    "    for a in range(0, size):\n",
    "        item = array_2[a]\n",
    "        array_1.append(item)\n",
    "        array_1.sort()\n",
    "        mid = len(array_1) // 2\n",
    "        median = (array_1[mid] + array_1[~mid]) / 2\n",
    "        \n",
    "    return array_1, median          \n",
    "\n",
    "\n",
    "if __name__ == \"__main__\":\n",
    "    \n",
    "   arr_1 = [1, 2]\n",
    "   arr_2 = []\n",
    "   median = median_of_arrays(arr_1, arr_2)\n",
    "   print() # skip a line\n",
    "   print(\"String without repeating characters: \" + str(median))"
   ]
  }
 ],
 "metadata": {
  "kernelspec": {
   "display_name": "Python 3",
   "language": "python",
   "name": "python3"
  },
  "language_info": {
   "codemirror_mode": {
    "name": "ipython",
    "version": 3
   },
   "file_extension": ".py",
   "mimetype": "text/x-python",
   "name": "python",
   "nbconvert_exporter": "python",
   "pygments_lexer": "ipython3",
   "version": "3.10.2 (tags/v3.10.2:a58ebcc, Jan 17 2022, 14:12:15) [MSC v.1929 64 bit (AMD64)]"
  },
  "orig_nbformat": 4,
  "vscode": {
   "interpreter": {
    "hash": "dcc355bdbe6cc8e2ecaf468706ec444166ea8f3050acd638fcc7bec5df6828f9"
   }
  }
 },
 "nbformat": 4,
 "nbformat_minor": 2
}
