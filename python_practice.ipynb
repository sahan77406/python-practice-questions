{
 "cells": [
  {
   "attachments": {},
   "cell_type": "markdown",
   "metadata": {},
   "source": [
    "**1** **-Given a dictionary with keys of letters and values of a list of letters, write a function closest_key**\n",
    "**to find the key with the input value closest to the beginning of the list.**"
   ]
  },
  {
   "cell_type": "code",
   "execution_count": 14,
   "metadata": {},
   "outputs": [
    {
     "name": "stdout",
     "output_type": "stream",
     "text": [
      "The input value closest to the beginning of the list at index of 1 in the list_m\n"
     ]
    }
   ],
   "source": [
    "dictionary = {\n",
    "    'a' : ['b','c','e'],\n",
    "    'm' : ['c','e', 'b'],\n",
    "}\n",
    "input1 = \"e\"\n",
    "\n",
    "list_a = dictionary.get(\"a\")\n",
    "list_m = dictionary.get(\"m\")\n",
    "\n",
    "for i in range (len(list_a)):\n",
    "    if list_a[i] == input1:\n",
    "        index_a = i\n",
    "        \n",
    "for i in range (len(list_m)):\n",
    "    if list_m[i] == input1:\n",
    "        index_m = i\n",
    "\n",
    "if index_a < index_m:\n",
    "    print ( \"The input value closest to the beginning of the list at index of \" + str(index_a) + + \" in the list_a\")\n",
    "elif index_m < index_a:\n",
    "    print(\"The input value closest to the beginning of the list at index of \" + str(index_m) + \" in the list_m\")\n",
    "else:\n",
    "    print (\"the input value not found in the lists\")\n",
    "    \n",
    "    \n",
    "        "
   ]
  },
  {
   "attachments": {},
   "cell_type": "markdown",
   "metadata": {},
   "source": [
    "**2** **-Write a function that can take a string and return a list of bigrams**."
   ]
  },
  {
   "cell_type": "code",
   "execution_count": 15,
   "metadata": {},
   "outputs": [
    {
     "name": "stdout",
     "output_type": "stream",
     "text": [
      "List of the words in the sentence:\n",
      "Write a function that can take a string and return a list of bigrams\n",
      "\n",
      "list of bigrams:\n",
      "[('Write', 'a'), ('a', 'function'), ('function', 'that'), ('that', 'can'), ('can', 'take'), ('take', 'a'), ('a', 'string'), ('string', 'and'), ('and', 'return'), ('return', 'a'), ('a', 'list'), ('list', 'of'), ('of', 'bigrams')]\n"
     ]
    }
   ],
   "source": [
    "text = \"Write a function that can take a string and return a list of bigrams\"\n",
    "words = text.split()\n",
    "print(\"List of the words in the sentence:\")\n",
    "print (text)\n",
    "print() # skip a line\n",
    "bigram_list = []\n",
    "\n",
    "for word in zip(text.split()[:-1], text.split()[1:]):\n",
    "    bigram_list.append(word)\n",
    "print(\"list of bigrams:\")\n",
    "print(bigram_list)"
   ]
  },
  {
   "attachments": {},
   "cell_type": "markdown",
   "metadata": {},
   "source": [
    "**3** **-Given an array of integers called array and an integer called target, return indices of the two numbers such that they add up to target.**"
   ]
  },
  {
   "cell_type": "code",
   "execution_count": 16,
   "metadata": {},
   "outputs": [
    {
     "name": "stdout",
     "output_type": "stream",
     "text": [
      "indices of the two numbers such that they add up to target : [1, 7, 5, 6]\n"
     ]
    }
   ],
   "source": [
    "def sum_of_two_elem(array, size, target):\n",
    "    array1 = []\n",
    "    for a in range(0, size - 1):\n",
    "        for b in range(a + 1, size):\n",
    "            if array[a] + array[b] == target:\n",
    "                array1.append(a)\n",
    "                array1.append(b)\n",
    "    \n",
    "    return array1\n",
    "                \n",
    "\n",
    " \n",
    "if __name__ == \"__main__\":\n",
    "    \n",
    "    array = [2, 3, -1, -6, 5, 4, 6, 7, 0]\n",
    "    target = int(10)\n",
    "    size = len(array)\n",
    "    result = sum_of_two_elem(array, size, target)\n",
    "    \n",
    "    print(\"indices of the two numbers such that they add up to target : \" + str(result))\n",
    "                    \n",
    "\n",
    "\n"
   ]
  },
  {
   "attachments": {},
   "cell_type": "markdown",
   "metadata": {},
   "source": [
    "**4** **-Given an array of integers called array and an integer called target, return indices of the two numbers such that they add up to target.**\n",
    "\n",
    "**List Comprehension-1**"
   ]
  },
  {
   "cell_type": "code",
   "execution_count": 17,
   "metadata": {},
   "outputs": [
    {
     "name": "stdout",
     "output_type": "stream",
     "text": [
      "indices of the two numbers such that they add up to target: [1, 7, 5, 6]\n"
     ]
    }
   ],
   "source": [
    "\n",
    "array = [2, 3, -1, -6, 5, 4, 6, 7, 0]\n",
    "target = int(10)\n",
    "size = len(array)\n",
    "array1 = []\n",
    "array2 = [(array1.append(a), array1.append(b)) for a in range(0, size - 1) for b in range(a + 1, size) if array[a] + array[b] == target ]\n",
    "    \n",
    "print (\"indices of the two numbers such that they add up to target: \" + str(array1))\n"
   ]
  },
  {
   "attachments": {},
   "cell_type": "markdown",
   "metadata": {},
   "source": [
    "**4** **-Given an array of integers called array and an integer called target, return indices of the two numbers such that they add up to target.**\n",
    "\n",
    "**List Comprehension-2**"
   ]
  },
  {
   "cell_type": "code",
   "execution_count": 18,
   "metadata": {},
   "outputs": [
    {
     "name": "stdout",
     "output_type": "stream",
     "text": [
      "indices of the two numbers such that they add up to target : [(1, 7), (5, 6)]\n"
     ]
    }
   ],
   "source": [
    "array = [2, 3, -1, -6, 5, 4, 6, 7, 0]\n",
    "target = int(10)\n",
    "size = len(array)\n",
    "array2 = [(a, b) for a in range(0, size - 1) for b in range(a + 1, size) if array[a] + array[b] == target ]\n",
    "print (\"indices of the two numbers such that they add up to target : \" + str(array2))"
   ]
  },
  {
   "attachments": {},
   "cell_type": "markdown",
   "metadata": {},
   "source": [
    "**5** **-Longest Substring Without Repeating Characters**"
   ]
  },
  {
   "cell_type": "code",
   "execution_count": 19,
   "metadata": {},
   "outputs": [
    {
     "name": "stdout",
     "output_type": "stream",
     "text": [
      "Original String : pwwkew\n",
      "\n",
      "\n",
      "String without repeating characters: pwke\n"
     ]
    }
   ],
   "source": [
    "def longestString(string_1):\n",
    "    \n",
    "    \n",
    "    size = len(string_1)\n",
    "    print(\"Original String : \" + string_1)\n",
    "    str_2 = \"\"\n",
    "    print(str_2)\n",
    "    for a in range(0, size - 1):\n",
    "        if string_1[a] not in str_2:\n",
    "            str_2 += string_1[a]\n",
    "            str_2\n",
    "             \n",
    "    return str_2\n",
    "                    \n",
    "\n",
    "if __name__ == \"__main__\":\n",
    "    \n",
    "   str_1 = \"pwwkew\"\n",
    "   str_1 = str_1.lower()\n",
    "   returned_string = longestString(str_1)\n",
    "   print() # skip a line\n",
    "   print(\"String without repeating characters: \" + str(returned_string))"
   ]
  },
  {
   "attachments": {},
   "cell_type": "markdown",
   "metadata": {},
   "source": [
    "**6- Finding the mediam of two combined arrays**"
   ]
  },
  {
   "cell_type": "code",
   "execution_count": 20,
   "metadata": {},
   "outputs": [
    {
     "name": "stdout",
     "output_type": "stream",
     "text": [
      "\n",
      "String without repeating characters: 1.5\n"
     ]
    }
   ],
   "source": [
    "def median_of_arrays(array_1, array_2):\n",
    "    \n",
    "    \n",
    "    size = len(array_2)\n",
    "    median = 0\n",
    "    array_1.sort()\n",
    "    mid = len(array_1) // 2\n",
    "    if size == 0:\n",
    "        median = (array_1[mid] + array_1[~mid]) / 2\n",
    "        return median\n",
    "    for a in range(0, size):\n",
    "        item = array_2[a]\n",
    "        array_1.append(item)\n",
    "        array_1.sort()\n",
    "        mid = len(array_1) // 2\n",
    "        median = (array_1[mid] + array_1[~mid]) / 2\n",
    "        \n",
    "    return array_1, median          \n",
    "\n",
    "\n",
    "if __name__ == \"__main__\":\n",
    "    \n",
    "   arr_1 = [1, 2]\n",
    "   arr_2 = []\n",
    "   median = median_of_arrays(arr_1, arr_2)\n",
    "   print() # skip a line\n",
    "   print(\"String without repeating characters: \" + str(median))"
   ]
  },
  {
   "attachments": {},
   "cell_type": "markdown",
   "metadata": {},
   "source": [
    "**6- Tuple unpacking**"
   ]
  },
  {
   "cell_type": "code",
   "execution_count": 21,
   "metadata": {},
   "outputs": [
    {
     "name": "stdout",
     "output_type": "stream",
     "text": [
      "a=15, b=25\n",
      "a=15, b=25\n"
     ]
    }
   ],
   "source": [
    "a = 15\n",
    "b = 25\n",
    "\n",
    "print(f'a={a}, b={b}')\n",
    "\n",
    "a, b = a, b\n",
    "\n",
    "print(f'a={a}, b={b}')"
   ]
  },
  {
   "attachments": {},
   "cell_type": "markdown",
   "metadata": {},
   "source": [
    "**7- Sum of arrays**"
   ]
  },
  {
   "cell_type": "code",
   "execution_count": 22,
   "metadata": {},
   "outputs": [
    {
     "name": "stdout",
     "output_type": "stream",
     "text": [
      "Sum of array: 341\n"
     ]
    }
   ],
   "source": [
    "def arraySum (array):\n",
    "    \n",
    "    sum = 0\n",
    "    \n",
    "    for a in array:\n",
    "        sum = sum + a\n",
    "    \n",
    "    \n",
    "    return sum\n",
    "if __name__ == '__main__':\n",
    "    \n",
    "    array = [1, -1, -6, 9, 99, 98, 76, 65]\n",
    "    \n",
    "    print (\"Sum of array: \" + str(arraySum(array)))"
   ]
  },
  {
   "attachments": {},
   "cell_type": "markdown",
   "metadata": {},
   "source": [
    "**8- Return points of two contenders**"
   ]
  },
  {
   "cell_type": "code",
   "execution_count": 23,
   "metadata": {},
   "outputs": [
    {
     "name": "stdout",
     "output_type": "stream",
     "text": [
      "(1, 1)\n"
     ]
    }
   ],
   "source": [
    "def comparePoints(a, b):\n",
    "    # Write your code here\n",
    "    \n",
    "    bob_score =0\n",
    "    alice_score = 0\n",
    "    \n",
    "    for i in range(0, len(a)):\n",
    "            if a[i] == b[i]:\n",
    "                alice_score +=0\n",
    "                bob_score +=0  \n",
    "            if a[i] > b[i]:\n",
    "                alice_score +=1\n",
    "            if a[i] < b[i]:\n",
    "                bob_score +=1\n",
    "    return bob_score, alice_score\n",
    "                \n",
    "        \n",
    "if __name__ == '__main__':\n",
    "    \n",
    "    a = [1, 2, 3]\n",
    "    b = [3, 2, 1]\n",
    "    \n",
    "    print (comparePoints(a,b))"
   ]
  },
  {
   "attachments": {},
   "cell_type": "markdown",
   "metadata": {},
   "source": [
    "**9- Write a function that takes in a list of dictionaries with both a key and list of integers, and returns a dictionary with the standard deviation of each list.**"
   ]
  },
  {
   "cell_type": "code",
   "execution_count": 24,
   "metadata": {},
   "outputs": [
    {
     "name": "stdout",
     "output_type": "stream",
     "text": [
      "items_a:  [4, 5, 2, 3, 4, 5, 2, 3]\n",
      "sum_a:  28\n",
      "len_a:  8\n",
      "mean_a:  3.5\n",
      "standard_devi_a:  2.0\n",
      "\n"
     ]
    },
    {
     "ename": "TypeError",
     "evalue": "'method' object is not subscriptable",
     "output_type": "error",
     "traceback": [
      "\u001b[1;31m---------------------------------------------------------------------------\u001b[0m",
      "\u001b[1;31mTypeError\u001b[0m                                 Traceback (most recent call last)",
      "Cell \u001b[1;32mIn [24], line 58\u001b[0m\n\u001b[0;32m     45\u001b[0m \u001b[39mif\u001b[39;00m \u001b[39m__name__\u001b[39m \u001b[39m==\u001b[39m \u001b[39m'\u001b[39m\u001b[39m__main__\u001b[39m\u001b[39m'\u001b[39m:\n\u001b[0;32m     47\u001b[0m     list_dict \u001b[39m=\u001b[39m [\n\u001b[0;32m     48\u001b[0m         {\n\u001b[0;32m     49\u001b[0m             \u001b[39m'\u001b[39m\u001b[39mkey\u001b[39m\u001b[39m'\u001b[39m: \u001b[39m'\u001b[39m\u001b[39mlist1\u001b[39m\u001b[39m'\u001b[39m,\n\u001b[1;32m   (...)\u001b[0m\n\u001b[0;32m     55\u001b[0m         }\n\u001b[0;32m     56\u001b[0m     ]\n\u001b[1;32m---> 58\u001b[0m     \u001b[39mprint\u001b[39m (standard_deviation(list_dict))\n",
      "Cell \u001b[1;32mIn [24], line 26\u001b[0m, in \u001b[0;36mstandard_deviation\u001b[1;34m(list_dict)\u001b[0m\n\u001b[0;32m     22\u001b[0m \u001b[39mprint\u001b[39m(\u001b[39m\"\u001b[39m\u001b[39mstandard_devi_a: \u001b[39m\u001b[39m\"\u001b[39m, standard_devi)\n\u001b[0;32m     25\u001b[0m \u001b[39mprint\u001b[39m()\n\u001b[1;32m---> 26\u001b[0m \u001b[39mprint\u001b[39m (\u001b[39m\"\u001b[39m\u001b[39mitems_b: \u001b[39m\u001b[39m\"\u001b[39m , (\u001b[39minput\u001b[39;49m[\u001b[39m1\u001b[39;49m][\u001b[39m'\u001b[39m\u001b[39mvalues\u001b[39m\u001b[39m'\u001b[39m]))\n\u001b[0;32m     28\u001b[0m list_b \u001b[39m=\u001b[39m list_dict[\u001b[39m1\u001b[39m][\u001b[39m'\u001b[39m\u001b[39mvalues\u001b[39m\u001b[39m'\u001b[39m]\n\u001b[0;32m     30\u001b[0m sum_b \u001b[39m=\u001b[39m \u001b[39m0\u001b[39m\n",
      "\u001b[1;31mTypeError\u001b[0m: 'method' object is not subscriptable"
     ]
    }
   ],
   "source": [
    "import math\n",
    "\n",
    "def standard_deviation(list_dict):\n",
    "\n",
    "    print (\"items_a: \" , (list_dict[0]['values']))\n",
    "\n",
    "    list_a = list_dict[0]['values']\n",
    "\n",
    "    sum_a = 0\n",
    "    mean_a = 0\n",
    "    sum_sd_a = 0\n",
    "    for a in list_a:\n",
    "        sum_a = sum_a + a\n",
    "        mean_a = sum_a /len(list_a)\n",
    "        len_a = len(list_a)\n",
    "        sum_sd_a = sum_sd_a + mean_a-a\n",
    "        standard_devi = math.sqrt(pow(sum_sd_a//len_a, 2))\n",
    "\n",
    "    print (\"sum_a: \" , sum_a)\n",
    "    print (\"len_a: \", len(list_a))\n",
    "    print(\"mean_a: \", mean_a)\n",
    "    print(\"standard_devi_a: \", standard_devi)\n",
    "\n",
    "\n",
    "    print()\n",
    "    print (\"items_b: \" , (input[1]['values']))\n",
    "\n",
    "    list_b = list_dict[1]['values']\n",
    "\n",
    "    sum_b = 0\n",
    "    mean_b = 0\n",
    "    sum_sd_b = 0\n",
    "    for b in list_b:\n",
    "        sum_b = sum_b + b\n",
    "        mean_b = sum_b /len(list_b)\n",
    "        len_b = len(list_b)\n",
    "        sum_sd_b = sum_sd_b + mean_b-b\n",
    "        standard_devi = math.sqrt(pow(sum_sd_b//len_b, 2))\n",
    "\n",
    "    print(\"sum_b: \", sum_b)\n",
    "    print (\"len_b: \", len(list_b))\n",
    "    print(\"mean_b: \", mean_b)\n",
    "    print(\"standard_devi_b: \", standard_devi)\n",
    "    \n",
    "if __name__ == '__main__':\n",
    "    \n",
    "    list_dict = [\n",
    "        {\n",
    "            'key': 'list1',\n",
    "            'values': [4,5,2,3,4,5,2,3],\n",
    "        },\n",
    "        {\n",
    "            'key': 'list2',\n",
    "            'values': [1,1,34,12,40,3,9,7],\n",
    "        }\n",
    "    ]\n",
    "    \n",
    "    print (standard_deviation(list_dict))\n",
    "    \n",
    "\n",
    "    "
   ]
  },
  {
   "cell_type": "code",
   "execution_count": null,
   "metadata": {},
   "outputs": [],
   "source": [
    "import math\n",
    "\n",
    "\n",
    "def convert(self, s: str, num_rows: int) -> str:\n",
    "        if num_rows == 1:\n",
    "            return s\n",
    "        \n",
    "        n = len(s)\n",
    "        sections = math.ceil(n / (2 * num_rows - 2.0))\n",
    "        num_cols = sections * (num_rows - 1)\n",
    "            \n",
    "        matrix = [[' '] * num_cols for _ in range(num_rows)]\n",
    "            \n",
    "        curr_row, curr_col = 0, 0\n",
    "        curr_string_index = 0\n",
    "            \n",
    "        # Iterate in zig-zag pattern on matrix and fill it with string characters.\n",
    "        while curr_string_index < n:\n",
    "            # Move down.\n",
    "            while curr_row < num_rows and curr_string_index < n:\n",
    "                matrix[curr_row][curr_col] = s[curr_string_index]\n",
    "                curr_row += 1\n",
    "                curr_string_index += 1\n",
    "                \n",
    "            curr_row -= 2\n",
    "            curr_col += 1\n",
    "            \n",
    "            # Move up (with moving right also).\n",
    "            while curr_row > 0 and curr_col < num_cols and curr_string_index < n:\n",
    "                matrix[curr_row][curr_col] = s[curr_string_index]\n",
    "                curr_row -= 1\n",
    "                curr_col += 1\n",
    "                curr_string_index += 1\n",
    "        \n",
    "        answer = \"\"\n",
    "        for row in matrix:\n",
    "            answer += \"\".join(row)\n",
    "            \n",
    "        return answer.replace(\" \", \"\")\n",
    "            \n",
    "       \n",
    "if __name__ == '__main__':\n",
    "    \n",
    "    123\n"
   ]
  },
  {
   "attachments": {},
   "cell_type": "markdown",
   "metadata": {},
   "source": [
    "**10 - Reverse an integer**"
   ]
  },
  {
   "cell_type": "code",
   "execution_count": 5,
   "metadata": {},
   "outputs": [
    {
     "name": "stdout",
     "output_type": "stream",
     "text": [
      "The reverse number is : -4321\n"
     ]
    }
   ],
   "source": [
    "def reverse_integer(num):\n",
    "    \n",
    "    rev = 0\n",
    "    none = int(0)\n",
    "    if num > 0:\n",
    "        while(num != 0):\n",
    "            a = num % 10\n",
    "            rev = rev * 10 + a\n",
    "            num = num // 10\n",
    "        return rev\n",
    "    \n",
    "    if num < 0:\n",
    "        num = abs(num)\n",
    "        while(num != 0):\n",
    "            a = num % 10\n",
    "            rev = rev * 10 + a\n",
    "            num = num // 10\n",
    "        return -abs(rev)\n",
    "\n",
    "\n",
    "if __name__ == '__main__':\n",
    "    \n",
    "    integer = -123400\n",
    "    \n",
    "    print(\"The reverse number is : {}\".format(reverse_integer(integer))) \n"
   ]
  },
  {
   "attachments": {},
   "cell_type": "markdown",
   "metadata": {},
   "source": [
    "**11 - Reverse Integer with Constraints** "
   ]
  },
  {
   "cell_type": "code",
   "execution_count": 22,
   "metadata": {},
   "outputs": [
    {
     "name": "stdout",
     "output_type": "stream",
     "text": [
      "-2147483648\n",
      "2147483647\n",
      "The reverse number is : 0\n"
     ]
    }
   ],
   "source": [
    "def reverse_integer(x):\n",
    "        rev = 0\n",
    "        rev = int(rev)\n",
    "        none = 0\n",
    "        print (-2**31)\n",
    "        print (((2**31)-1))\n",
    "        # if ((-2**31) > x) and (x < (2**(31)-1)):\n",
    "        if (x == 0):\n",
    "            return 0\n",
    "        if (x <= -2**31):\n",
    "            return 0\n",
    "        if (x >= ((2**31)-1)):\n",
    "            return 0\n",
    "        if (x > none):\n",
    "                while(x != 0):\n",
    "                    a = x % 10\n",
    "                    rev = (rev * 10) + a\n",
    "                    x = x // 10\n",
    "                    if (rev >= ((2**31)-1)):\n",
    "                        return 0\n",
    "                return int(rev)\n",
    "            \n",
    "        if (x < none):\n",
    "                x = abs(x)\n",
    "                while(x != 0):\n",
    "                    a = x % 10\n",
    "                    rev = (rev * 10) + a\n",
    "                    x = x // 10\n",
    "                    if (-abs(rev) <= -2**31):\n",
    "                        return 0\n",
    "                rev = -abs(rev)\n",
    "                return int(rev)\n",
    "                    \n",
    "            \n",
    "if __name__ == '__main__':\n",
    "    \n",
    "    integer = -1563847412\n",
    "    \n",
    "    print(\"The reverse number is : {}\".format(reverse_integer(integer))) "
   ]
  },
  {
   "attachments": {},
   "cell_type": "markdown",
   "metadata": {},
   "source": [
    "**12 - Adding Up Two Lists**"
   ]
  },
  {
   "cell_type": "code",
   "execution_count": 48,
   "metadata": {},
   "outputs": [
    {
     "name": "stdout",
     "output_type": "stream",
     "text": [
      "['9', '1', '2']\n"
     ]
    }
   ],
   "source": [
    "l1 = [0, 2, 3, 4]\n",
    "l2 = [0, 6, 7, 8]\n",
    "l3 = [6, 8, 10, 12]\n",
    "l4 = [6, 9, 1 , 2]\n",
    "\n",
    "l1 = list(l1)\n",
    "\n",
    "list_final = []\n",
    "str_num1 = ''\n",
    "str_num2 = ''\n",
    "for a in range(len(l1)):\n",
    "    str_num1 = str_num1 + str(l1[a])\n",
    "    str_num2 = str_num2 + str(l2[a])\n",
    "    num1 = int(str_num1)\n",
    "    num2 = int(str_num2)\n",
    "    num_sum = num1 + num2\n",
    "    num_sum = str(num_sum)\n",
    "    \n",
    "lst = []\n",
    " \n",
    "for letter in num_sum:\n",
    "    lst.append(letter)\n",
    "    if lst[0] == '0':\n",
    "        lst.remove(0)\n",
    "        \n",
    "    \n",
    "# print (str_num1)\n",
    "# print (str_num2)\n",
    "print (lst)\n"
   ]
  },
  {
   "attachments": {},
   "cell_type": "markdown",
   "metadata": {},
   "source": [
    "**13 - Linked List**"
   ]
  },
  {
   "cell_type": "code",
   "execution_count": 49,
   "metadata": {},
   "outputs": [
    {
     "name": "stdout",
     "output_type": "stream",
     "text": [
      "1\n",
      "2\n",
      "3\n"
     ]
    }
   ],
   "source": [
    "# Python program for traversal of a linked list\n",
    "# Node class\n",
    " \n",
    " \n",
    "class Node:\n",
    " \n",
    "    # Function to initialise the node object\n",
    "    def __init__(self, data):\n",
    "        self.data = data  # Assign data\n",
    "        self.next = None  # Initialize next as null\n",
    " \n",
    " \n",
    "# Linked List class contains a Node object\n",
    "class LinkedList:\n",
    " \n",
    "    # Function to initialize head\n",
    "    def __init__(self):\n",
    "        self.head = None\n",
    " \n",
    "    # This function prints contents of linked list\n",
    "    # starting from head\n",
    "    def printList(self):\n",
    "        temp = self.head\n",
    "        while (temp):\n",
    "            print(temp.data)\n",
    "            temp = temp.next\n",
    " \n",
    " \n",
    "# Code execution starts here\n",
    "if __name__ == '__main__':\n",
    " \n",
    "    # Start with the empty list\n",
    "    llist = LinkedList()\n",
    " \n",
    "    llist.head = Node(1)\n",
    "    second = Node(2)\n",
    "    third = Node(3)\n",
    " \n",
    "    llist.head.next = second  # Link first node with second\n",
    "    second.next = third  # Link second node with the third node\n",
    " \n",
    "    llist.printList()"
   ]
  },
  {
   "cell_type": "markdown",
   "metadata": {},
   "source": [
    "**14 - Ratio of Numbers**"
   ]
  },
  {
   "cell_type": "code",
   "execution_count": 12,
   "metadata": {},
   "outputs": [
    {
     "name": "stdout",
     "output_type": "stream",
     "text": [
      "0.600000\n",
      "0.400000\n",
      "0.000000\n",
      "None\n"
     ]
    }
   ],
   "source": [
    "def ratio_of_numbers(arr):\n",
    "    \n",
    "    len_list = len(arr)\n",
    "    zero_count = 0\n",
    "    positive_count = 0\n",
    "    negative_count = 0\n",
    "    \n",
    "    for a in range (len_list):\n",
    "        if arr[a] > 0:\n",
    "            positive_count += 1\n",
    "        elif arr[a] < 0:\n",
    "            negative_count += 1\n",
    "        elif arr[a] == 0:\n",
    "            zero_count += 1\n",
    "            \n",
    "    print ( format(positive_count/len_list, '.6f'))\n",
    "        \n",
    "    print ( format(negative_count/len_list, '.6f'))\n",
    "        \n",
    "    print ( format(zero_count/len_list, '.6f'))\n",
    "\n",
    "if __name__ == '__main__':\n",
    "     \n",
    "     list_a = [-4, 3, -9, 4, 1]\n",
    "     print (ratio_of_numbers(list_a))"
   ]
  },
  {
   "attachments": {},
   "cell_type": "markdown",
   "metadata": {},
   "source": [
    "**15 - Right Triagnle**"
   ]
  },
  {
   "cell_type": "code",
   "execution_count": 46,
   "metadata": {},
   "outputs": [
    {
     "name": "stdout",
     "output_type": "stream",
     "text": [
      "     #\n",
      "    ##\n",
      "   ###\n",
      "  ####\n",
      " #####\n",
      "######\n",
      "None\n"
     ]
    }
   ],
   "source": [
    "def right_triangle(n):\n",
    "    \n",
    "    count = 0\n",
    "    count2 = n\n",
    "    for a in range (n):\n",
    "        count += 1\n",
    "        count2 -= 1\n",
    "        print(count2* (\" \") + count * (\"#\"))\n",
    "        \n",
    "\n",
    "if __name__ == '__main__':\n",
    "     \n",
    "     list_a = [-4, 3, -9, 4, 1]\n",
    "     print (right_triangle(6))"
   ]
  },
  {
   "attachments": {},
   "cell_type": "markdown",
   "metadata": {},
   "source": [
    "**16 - Isosceles Triangle**"
   ]
  },
  {
   "cell_type": "code",
   "execution_count": 58,
   "metadata": {},
   "outputs": [
    {
     "name": "stdout",
     "output_type": "stream",
     "text": [
      "     ##\n",
      "    ####\n",
      "   ######\n",
      "  ########\n",
      " ##########\n",
      "############\n",
      "None\n"
     ]
    }
   ],
   "source": [
    "def isosceles_triangle(n):\n",
    "    \n",
    "    count_1 = 0\n",
    "    count_2 = n\n",
    "    for a in range (n):\n",
    "        count_1 += 1\n",
    "        count_2 -= 1\n",
    "        print(count_2* (\" \") + count_1 * (\"#\") + count_1 * (\"#\"))\n",
    "        \n",
    "\n",
    "if __name__ == '__main__':\n",
    "     \n",
    "     list_a = [-4, 3, -9, 4, 1]\n",
    "     print (isosceles_triangle(6))"
   ]
  },
  {
   "attachments": {},
   "cell_type": "markdown",
   "metadata": {},
   "source": [
    "**17 - Upside Down Isosceles Triangle**"
   ]
  },
  {
   "cell_type": "code",
   "execution_count": 61,
   "metadata": {},
   "outputs": [
    {
     "name": "stdout",
     "output_type": "stream",
     "text": [
      "       ##########\n",
      "        ########\n",
      "         ######\n",
      "          ####\n",
      "           ##\n",
      "            \n",
      "None\n"
     ]
    }
   ],
   "source": [
    "def upside_down_isosceles_triangle(n):\n",
    "    \n",
    "    count_1 = n\n",
    "    count_2 = n\n",
    "    for a in range (n):\n",
    "        count_1 -= 1\n",
    "        count_2 += 1\n",
    "        print(count_2* (\" \") + count_1 * (\"#\") + count_1 * (\"#\"))\n",
    "        \n",
    "\n",
    "if __name__ == '__main__':\n",
    "     \n",
    "     list_a = [-4, 3, -9, 4, 1]\n",
    "     print (upside_down_isosceles_triangle(6))"
   ]
  }
 ],
 "metadata": {
  "kernelspec": {
   "display_name": "Python 3",
   "language": "python",
   "name": "python3"
  },
  "language_info": {
   "codemirror_mode": {
    "name": "ipython",
    "version": 3
   },
   "file_extension": ".py",
   "mimetype": "text/x-python",
   "name": "python",
   "nbconvert_exporter": "python",
   "pygments_lexer": "ipython3",
   "version": "3.10.2"
  },
  "orig_nbformat": 4,
  "vscode": {
   "interpreter": {
    "hash": "dcc355bdbe6cc8e2ecaf468706ec444166ea8f3050acd638fcc7bec5df6828f9"
   }
  }
 },
 "nbformat": 4,
 "nbformat_minor": 2
}
