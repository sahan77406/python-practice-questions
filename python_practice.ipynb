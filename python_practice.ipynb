{
 "cells": [
  {
   "attachments": {},
   "cell_type": "markdown",
   "metadata": {},
   "source": [
    "**1** **-Given a dictionary with keys of letters and values of a list of letters, write a function closest_key**\n",
    "**to find the key with the input value closest to the beginning of the list.**"
   ]
  },
  {
   "cell_type": "code",
   "execution_count": 15,
   "metadata": {},
   "outputs": [
    {
     "name": "stdout",
     "output_type": "stream",
     "text": [
      "The input value closest to the beginning of the list at index of 1 in the list_m\n"
     ]
    }
   ],
   "source": [
    "dictionary = {\n",
    "    'a' : ['b','c','e'],\n",
    "    'm' : ['c','e', 'b'],\n",
    "}\n",
    "input1 = \"e\"\n",
    "\n",
    "list_a = dictionary.get(\"a\")\n",
    "list_m = dictionary.get(\"m\")\n",
    "\n",
    "for i in range (len(list_a)):\n",
    "    if list_a[i] == input1:\n",
    "        index_a = i\n",
    "        \n",
    "for i in range (len(list_m)):\n",
    "    if list_m[i] == input1:\n",
    "        index_m = i\n",
    "\n",
    "if index_a < index_m:\n",
    "    print ( \"The input value closest to the beginning of the list at index of \" + str(index_a) + + \" in the list_a\")\n",
    "elif index_m < index_a:\n",
    "    print(\"The input value closest to the beginning of the list at index of \" + str(index_m) + \" in the list_m\")\n",
    "else:\n",
    "    print (\"the input value not found in the lists\")\n",
    "    \n",
    "    \n",
    "        "
   ]
  },
  {
   "attachments": {},
   "cell_type": "markdown",
   "metadata": {},
   "source": [
    "**2** **-Write a function that can take a string and return a list of bigrams**."
   ]
  },
  {
   "cell_type": "code",
   "execution_count": 58,
   "metadata": {},
   "outputs": [
    {
     "name": "stdout",
     "output_type": "stream",
     "text": [
      "List of the words in the sentence:\n",
      "Write a function that can take a string and return a list of bigrams\n",
      "\n",
      "list of bigrams:\n",
      "[('Write', 'a'), ('a', 'function'), ('function', 'that'), ('that', 'can'), ('can', 'take'), ('take', 'a'), ('a', 'string'), ('string', 'and'), ('and', 'return'), ('return', 'a'), ('a', 'list'), ('list', 'of'), ('of', 'bigrams')]\n"
     ]
    }
   ],
   "source": [
    "text = \"Write a function that can take a string and return a list of bigrams\"\n",
    "words = text.split()\n",
    "print(\"List of the words in the sentence:\")\n",
    "print (text)\n",
    "print() # skip a line\n",
    "bigram_list = []\n",
    "\n",
    "for word in zip(text.split()[:-1], text.split()[1:]):\n",
    "    bigram_list.append(word)\n",
    "print(\"list of bigrams:\")\n",
    "print(bigram_list)"
   ]
  },
  {
   "attachments": {},
   "cell_type": "markdown",
   "metadata": {},
   "source": [
    "**3** **-Given an array of integers called array and an integer called target, return indices of the two numbers such that they add up to target.**"
   ]
  },
  {
   "cell_type": "code",
   "execution_count": 50,
   "metadata": {},
   "outputs": [
    {
     "name": "stdout",
     "output_type": "stream",
     "text": [
      "indices of the two numbers such that they add up to target : [1, 7, 5, 6]\n"
     ]
    }
   ],
   "source": [
    "def sum_of_two_elem(array, size, target):\n",
    "    array1 = []\n",
    "    for a in range(0, size - 1):\n",
    "        for b in range(a + 1, size):\n",
    "            if array[a] + array[b] == target:\n",
    "                array1.append(a)\n",
    "                array1.append(b)\n",
    "    \n",
    "    return array1\n",
    "                \n",
    "\n",
    " \n",
    "if __name__ == \"__main__\":\n",
    "    \n",
    "    array = [2, 3, -1, -6, 5, 4, 6, 7, 0]\n",
    "    target = int(10)\n",
    "    size = len(array)\n",
    "    result = sum_of_two_elem(array, size, target)\n",
    "    \n",
    "    print(\"indices of the two numbers such that they add up to target : \" + str(result))\n",
    "                    \n",
    "\n",
    "\n"
   ]
  }
 ],
 "metadata": {
  "kernelspec": {
   "display_name": "Python 3",
   "language": "python",
   "name": "python3"
  },
  "language_info": {
   "codemirror_mode": {
    "name": "ipython",
    "version": 3
   },
   "file_extension": ".py",
   "mimetype": "text/x-python",
   "name": "python",
   "nbconvert_exporter": "python",
   "pygments_lexer": "ipython3",
   "version": "3.10.2"
  },
  "orig_nbformat": 4,
  "vscode": {
   "interpreter": {
    "hash": "dcc355bdbe6cc8e2ecaf468706ec444166ea8f3050acd638fcc7bec5df6828f9"
   }
  }
 },
 "nbformat": 4,
 "nbformat_minor": 2
}
